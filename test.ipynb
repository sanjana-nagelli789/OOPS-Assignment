{
 "cells": [
  {
   "cell_type": "code",
   "execution_count": 1,
   "metadata": {},
   "outputs": [
    {
     "name": "stdout",
     "output_type": "stream",
     "text": [
      "Area of rectangle: 12\n",
      "Perimeter of rectangle: 24\n"
     ]
    }
   ],
   "source": [
    "class Rectangle:\n",
    "    def __init__(self,length,width):\n",
    "        self.length=length\n",
    "        self.width=width\n",
    "\n",
    "    def area(self):\n",
    "        return self.length * self.width\n",
    "    \n",
    "    def perimeter(self):\n",
    "        return 2 * self.length * self.width\n",
    "    \n",
    "length=int(input(\"Enter length of rect:\"))\n",
    "width=int(input(\"Enter width of rect:\"))\n",
    "rect= Rectangle(length,width)\n",
    "print(\"Area of rectangle:\", rect.area())\n",
    "print(\"Perimeter of rectangle:\", rect.perimeter())"
   ]
  },
  {
   "cell_type": "code",
   "execution_count": null,
   "metadata": {},
   "outputs": [],
   "source": [
    "Problem: Create a Python class Circle with attribute radius. Implement methods to \n",
    "calculate the area and circumference of the circle."
   ]
  },
  {
   "cell_type": "code",
   "execution_count": 4,
   "metadata": {},
   "outputs": [
    {
     "name": "stdout",
     "output_type": "stream",
     "text": [
      "Area of circle: 78.53981633974483\n",
      "Circumference of circle: 31.41592653589793\n"
     ]
    }
   ],
   "source": [
    "import math\n",
    "\n",
    "class Circle:\n",
    "  def __init__(self,radius):\n",
    "    self.radius=radius\n",
    "    \n",
    "  def area(self):\n",
    "    return math.pi* self.radius ** 2\n",
    "    \n",
    "  def circumference(self):\n",
    "    return 2* math.pi * self.radius\n",
    "\n",
    "radius=float(input(\"Enter radius:\"))\n",
    "circle=Circle(radius)\n",
    "print(\"Area of circle:\", circle.area())\n",
    "print(\"Circumference of circle:\", circle.circumference())"
   ]
  },
  {
   "cell_type": "code",
   "execution_count": null,
   "metadata": {},
   "outputs": [],
   "source": [
    "Problem: Create a Python class Employee with attributes name, salary, \n",
    "and designation. Implement a method to display employee details."
   ]
  },
  {
   "cell_type": "code",
   "execution_count": 7,
   "metadata": {},
   "outputs": [
    {
     "name": "stdout",
     "output_type": "stream",
     "text": [
      "Name: Sanjana\n",
      "Salary: 40000\n",
      "Designation: Software Engineer\n"
     ]
    }
   ],
   "source": [
    "class Employee:\n",
    "    def __init__(self,name,salary,designation):\n",
    "        self.name=name\n",
    "        self.salary=salary\n",
    "        self.designation=designation\n",
    "\n",
    "    def show_details(self):\n",
    "        print(\"Name:\", self.name)\n",
    "        print(\"Salary:\",self.salary)\n",
    "        print(\"Designation:\",self.designation)\n",
    "\n",
    "employee= Employee(\"Sanjana\", 40000, \"Software Engineer\")\n",
    "employee.show_details()"
   ]
  },
  {
   "cell_type": "code",
   "execution_count": null,
   "metadata": {},
   "outputs": [],
   "source": [
    "Problem: Create a Python class Bank Account with attributes balance. \n",
    "Implement methods to deposit and withdraw money from the account."
   ]
  },
  {
   "cell_type": "code",
   "execution_count": 14,
   "metadata": {},
   "outputs": [
    {
     "name": "stdout",
     "output_type": "stream",
     "text": [
      "Name: Sanjana\n",
      "Account number: 123456\n",
      "Balance: 5000\n",
      "Amount deposited: 300\n",
      "Current balance is 5300\n",
      "Amount Withdrawn: 500\n",
      "Current balance is 4800\n"
     ]
    }
   ],
   "source": [
    "class Bank:\n",
    "    def __init__(self, name, account_num, balance):\n",
    "        self.name = name\n",
    "        self.account_num = account_num\n",
    "        self.balance = balance\n",
    "\n",
    "    def customer_details(self):\n",
    "        print(\"Name:\", self.name)\n",
    "        print(\"Account number:\", self.account_num)\n",
    "        print(\"Balance:\", self.balance)\n",
    "\n",
    "    def deposit(self):\n",
    "        amt = int(input(\"Enter amount to be deposited: \"))\n",
    "        self.balance += amt\n",
    "        print(\"Amount deposited:\", amt)\n",
    "\n",
    "    def check_balance(self):\n",
    "        print(f\"Current balance is {self.balance}\")\n",
    "\n",
    "    def withdraw(self):\n",
    "        amt = int(input(\"Enter amount to be withdrawn: \"))\n",
    "        if self.balance >= amt:\n",
    "            self.balance -= amt\n",
    "            print(\"Amount Withdrawn:\", amt)\n",
    "        else:\n",
    "            print(\"Insufficient balance\")\n",
    "\n",
    "bank_acc = Bank(\"Sanjana\", 123456, 5000)\n",
    "bank_acc.customer_details()\n",
    "bank_acc.deposit()\n",
    "bank_acc.check_balance()\n",
    "bank_acc.withdraw()\n",
    "bank_acc.check_balance()\n"
   ]
  },
  {
   "cell_type": "code",
   "execution_count": null,
   "metadata": {},
   "outputs": [],
   "source": [
    "Create a Python class Student with attributes name, age, and grade. \n",
    "Implement a method to determine if a student is eligible for graduation based on their grade (>= 70)."
   ]
  },
  {
   "cell_type": "code",
   "execution_count": 21,
   "metadata": {},
   "outputs": [
    {
     "name": "stdout",
     "output_type": "stream",
     "text": [
      "Sanjana is eligible for graduation: False\n",
      "Divya is eligible for graduation: True\n",
      "Vyshnavi is eligible for graduation: True\n"
     ]
    }
   ],
   "source": [
    "class Student:\n",
    "    def __init__(self, name, age, grade):\n",
    "        self.name = name\n",
    "        self.age = age\n",
    "        self.grade = grade\n",
    "\n",
    "    def is_eligible(self):\n",
    "        return self.grade >= 70\n",
    "\n",
    "student1 = Student(\"Sanjana\", 23, 50)\n",
    "student2 = Student(\"Divya\", 23, 80)\n",
    "student3 = Student(\"Vyshnavi\", 23, 70)\n",
    "print(f\"{student1.name} is eligible for graduation:\", student1.is_eligible())\n",
    "print(f\"{student2.name} is eligible for graduation:\", student2.is_eligible())\n",
    "print(f\"{student3.name} is eligible for graduation:\", student3.is_eligible())\n"
   ]
  },
  {
   "cell_type": "code",
   "execution_count": null,
   "metadata": {},
   "outputs": [],
   "source": [
    "Problem: Create a Python class Car with attributes make, model, and year.\n",
    " Implement a method to display the car's details."
   ]
  },
  {
   "cell_type": "code",
   "execution_count": 25,
   "metadata": {},
   "outputs": [
    {
     "name": "stdout",
     "output_type": "stream",
     "text": [
      "Make: MG\n",
      "Model: Hector\n",
      "Year: 2022\n",
      "Make: Tata\n",
      "Model: Safari\n",
      "Year: 2019\n"
     ]
    }
   ],
   "source": [
    "class Car:\n",
    "    def __init__(self,make,model,year):\n",
    "        self.make=make\n",
    "        self.model=model\n",
    "        self.year=year\n",
    "\n",
    "    def show_details(self):\n",
    "        print(\"Make:\",self.make)\n",
    "        print(\"Model:\",self.model)\n",
    "        print(\"Year:\", self.year)\n",
    "\n",
    "\n",
    "car1= Car(\"MG\", \"Hector\", 2022)\n",
    "car2= Car(\"Tata\", \"Safari\", 2019)\n",
    "car1.show_details()\n",
    "car2.show_details()\n"
   ]
  },
  {
   "cell_type": "code",
   "execution_count": null,
   "metadata": {},
   "outputs": [],
   "source": [
    "Problem: Create a Python class Book with attributes title, author, and price. \n",
    "Implement a method to discount the book price by a certain percentage."
   ]
  },
  {
   "cell_type": "code",
   "execution_count": 43,
   "metadata": {},
   "outputs": [
    {
     "name": "stdout",
     "output_type": "stream",
     "text": [
      "Book Title: Gone Girl\n",
      "Book Author: Gillian Flynn\n",
      "Book Price: 500\n",
      "Original Price: Rs 500\n",
      "Discounted Price: Rs 425.0\n"
     ]
    }
   ],
   "source": [
    "class Book:\n",
    "    def __init__(self, title, author, price):\n",
    "        self.title = title\n",
    "        self.author = author\n",
    "        self.price = price\n",
    "\n",
    "    def show_details(self):\n",
    "        print(\"Book Title:\",self.title)\n",
    "        print(\"Book Author:\", self.author)\n",
    "        print(\"Book Price:\", self.price)\n",
    "\n",
    "    def discount_price(self, discount_per):\n",
    "        discount_amt = self.price * (discount_per / 100)\n",
    "        discounted_price = self.price - discount_amt\n",
    "        return discounted_price\n",
    "\n",
    "book = Book(\"Gone Girl\", \"Gillian Flynn\", 500)\n",
    "book.show_details()\n",
    "discount_per = int(input(\"Enter discount per(%):\"))\n",
    "discounted_price = book.discount_price(discount_per)\n",
    "\n",
    "print(f\"Original Price: Rs {book.price}\")\n",
    "print(f\"Discounted Price: Rs {discounted_price}\")\n"
   ]
  },
  {
   "cell_type": "code",
   "execution_count": null,
   "metadata": {},
   "outputs": [],
   "source": [
    "Problem: Create a Python class Bank with attributes name and location. \n",
    "Implement a method to display the bank's details."
   ]
  },
  {
   "cell_type": "code",
   "execution_count": 44,
   "metadata": {},
   "outputs": [
    {
     "name": "stdout",
     "output_type": "stream",
     "text": [
      "Bank Name: SBI\n",
      "Location: Hyderabad\n"
     ]
    }
   ],
   "source": [
    "class Bank:\n",
    "    def __init__(self, name, location):\n",
    "        self.name = name\n",
    "        self.location = location\n",
    "\n",
    "    def show_details(self):\n",
    "        print(\"Bank Name:\", self.name)\n",
    "        print(\"Location:\", self.location)\n",
    "\n",
    "bank = Bank(\"SBI\", \"Hyderabad\")\n",
    "bank.show_details()\n"
   ]
  },
  {
   "cell_type": "code",
   "execution_count": null,
   "metadata": {},
   "outputs": [],
   "source": [
    "Problem: Create a Python class Dog with attributes name and age. \n",
    "Implement a method to determine if the dog is a puppy (age < 1)."
   ]
  },
  {
   "cell_type": "code",
   "execution_count": 42,
   "metadata": {},
   "outputs": [
    {
     "name": "stdout",
     "output_type": "stream",
     "text": [
      "Sandy is a puppy: True\n",
      "Mothi is a puppy: False\n"
     ]
    }
   ],
   "source": [
    "class Dog:\n",
    "    def __init__(self, name, age):\n",
    "        self.name = name\n",
    "        self.age = age\n",
    "\n",
    "    def is_puppy(self):\n",
    "        return self.age < 1\n",
    "\n",
    "dog1 = Dog(\"Sandy\", 0.6)\n",
    "dog2 = Dog(\"Mothi\", 2)\n",
    "\n",
    "print(f\"{dog1.name} is a puppy:\", dog1.is_puppy())\n",
    "print(f\"{dog2.name} is a puppy:\", dog2.is_puppy())\n"
   ]
  },
  {
   "cell_type": "code",
   "execution_count": null,
   "metadata": {},
   "outputs": [],
   "source": [
    "Problem: Create a Python class Shape with an abstract method area(). \n",
    "Implement subclasses Triangle and Square with their own implementations of the area() method."
   ]
  },
  {
   "cell_type": "code",
   "execution_count": 47,
   "metadata": {},
   "outputs": [
    {
     "name": "stdout",
     "output_type": "stream",
     "text": [
      "Area of triangle: 6.0\n",
      "Area of Square: 36\n"
     ]
    }
   ],
   "source": [
    "class Shape:\n",
    "    def area(self):\n",
    "        raise NotImplementedError(\"Subclasses must implement this method\")\n",
    "    \n",
    "class Triangle(Shape):\n",
    "    def __init__(self,base,height):\n",
    "        self.base=base\n",
    "        self.height=height\n",
    "\n",
    "    def area(self):\n",
    "        return 0.5 * self.base * self.height\n",
    "    \n",
    "class Square(Shape):\n",
    "    def __init__(self,side):\n",
    "        self.side=side\n",
    "\n",
    "    def area(self):\n",
    "        return  self.side ** 2\n",
    "    \n",
    "tri=Triangle(3,4)\n",
    "print(\"Area of triangle:\", tri.area())\n",
    "\n",
    "sq=Square(6)\n",
    "print(\"Area of Square:\",sq.area())\n",
    "    "
   ]
  }
 ],
 "metadata": {
  "kernelspec": {
   "display_name": "Python 3",
   "language": "python",
   "name": "python3"
  },
  "language_info": {
   "codemirror_mode": {
    "name": "ipython",
    "version": 3
   },
   "file_extension": ".py",
   "mimetype": "text/x-python",
   "name": "python",
   "nbconvert_exporter": "python",
   "pygments_lexer": "ipython3",
   "version": "3.8.10"
  }
 },
 "nbformat": 4,
 "nbformat_minor": 2
}
